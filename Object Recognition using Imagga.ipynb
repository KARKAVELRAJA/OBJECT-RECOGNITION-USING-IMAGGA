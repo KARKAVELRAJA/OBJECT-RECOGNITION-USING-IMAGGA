{
 "cells": [
  {
   "cell_type": "markdown",
   "metadata": {},
   "source": [
    "# Object Recognition using Imagga"
   ]
  },
  {
   "cell_type": "code",
   "execution_count": 1,
   "metadata": {},
   "outputs": [],
   "source": [
    "# Importing Necessary Libraries\n",
    "\n",
    "import requests\n",
    "import json"
   ]
  },
  {
   "cell_type": "code",
   "execution_count": 2,
   "metadata": {},
   "outputs": [],
   "source": [
    "# Loading the Imagga Tags URL\n",
    "\n",
    "url = \"https://api.imagga.com/v2/tags\""
   ]
  },
  {
   "cell_type": "code",
   "execution_count": 29,
   "metadata": {},
   "outputs": [],
   "source": [
    "# Loading the Image URL\n",
    "\n",
    "querystring = {\"image_url\":\"https://media.wired.com/photos/5b74c0c07fff787d8ca431a6/master/pass/Toronto3-CPJM1K.jpg\"}"
   ]
  },
  {
   "cell_type": "code",
   "execution_count": 30,
   "metadata": {},
   "outputs": [],
   "source": [
    "# Loading the Authorization Details\n",
    "\n",
    "headers = {\"accept\":\"application/json\",\"authorization\":\"AUTHORIZATION_KEY_VALUE\"}"
   ]
  },
  {
   "cell_type": "code",
   "execution_count": 31,
   "metadata": {},
   "outputs": [
    {
     "name": "stdout",
     "output_type": "stream",
     "text": [
      "Object: bicycle , Confidence: 83.4542922973633\n",
      "Object: bike , Confidence: 63.4586181640625\n",
      "Object: wheeled vehicle , Confidence: 61.7761573791504\n",
      "Object: unicycle , Confidence: 58.9273796081543\n",
      "Object: vehicle , Confidence: 48.1460800170898\n",
      "Object: cycle , Confidence: 41.0093994140625\n"
     ]
    }
   ],
   "source": [
    "# Performing Object Recognition\n",
    "\n",
    "response = requests.request(\"GET\",url,headers=headers,params=querystring)\n",
    "data     = json.loads(response.text.encode(\"ascii\"))\n",
    "\n",
    "for i in range(6):\n",
    "    tag         = data[\"result\"][\"tags\"][i][\"tag\"][\"en\"]\n",
    "    confidence  = data[\"result\"][\"tags\"][i][\"confidence\"]\n",
    "    print(\"Object:\",tag,\",\",\"Confidence:\",confidence)"
   ]
  }
 ],
 "metadata": {
  "kernelspec": {
   "display_name": "Python 3",
   "language": "python",
   "name": "python3"
  },
  "language_info": {
   "codemirror_mode": {
    "name": "ipython",
    "version": 3
   },
   "file_extension": ".py",
   "mimetype": "text/x-python",
   "name": "python",
   "nbconvert_exporter": "python",
   "pygments_lexer": "ipython3",
   "version": "3.8.5"
  }
 },
 "nbformat": 4,
 "nbformat_minor": 4
}
